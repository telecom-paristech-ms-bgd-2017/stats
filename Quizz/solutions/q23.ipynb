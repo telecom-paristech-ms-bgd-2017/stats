1. Donner l’étape de mise à jour principale en descente par coordonnée pour résoudre le problème du *Lasso Positif*:
$ \hat\theta_\lambda= {\rm arg} \displaystyle\min_{\theta \in \mathbb{R}_+^p } \frac{1}{2}\| \mathbf{y} -X \theta \|_2^2 +\lambda  \|\theta\|_1$.
