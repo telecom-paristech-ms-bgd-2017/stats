{
 "cells": [
  {
   "cell_type": "markdown",
   "metadata": {},
   "source": [
    "# Général:"
   ]
  },
  {
   "cell_type": "markdown",
   "metadata": {},
   "source": [
    "1) Que vaut $Cov(X + \\mu)$ pour tout $\\mu \\in \\mathbb{R}$ déterministe, et tout vecteur aléatoire $X \\in \\mathbb{R}$ ?\n",
    "\n",
    "\n",
    "\n",
    "\n",
    "\n"
   ]
  },
  {
   "cell_type": "markdown",
   "metadata": {},
   "source": []
  },
  {
   "cell_type": "markdown",
   "metadata": {},
   "source": [
    "2) Que vaut $Cov(AX)$, pour toute matrice $A \\in \\mathbb{R}$ m×p et tout vecteur aléatoire $X \\in \\mathbb{R}$ ?\n",
    "\n",
    "\\begin{align}\n",
    "Cov(AX) &= \\mathbb{E} \\left[ \\left(AX - \\mathbb{E}(AX) \\right) \\left(AX - \\mathbb{E}(AX) \\right)^T \\right] \\\\\n",
    "        &= \\mathbb{E} \\left[ \\left(AX - A\\mathbb{E}(X) \\right) \\left(AX - A\\mathbb{E}(X) \\right)^T \\right] \\\\\n",
    "        &= \\mathbb{E} \\left[ A\\left(X - \\mathbb{E}(X) \\right) \\left(X - \\mathbb{E}(X) \\right)^T A^T \\right] \\\\\n",
    "        &= A \\mathbb{E} \\left[ \\left( X - \\mathbb{E}(X) \\right) \\left(X - \\mathbb{E}(X) \\right)^T \\right] A^T \\\\\n",
    "        &= A Cov(C) A^T\n",
    "\\end{align}"
   ]
  },
  {
   "cell_type": "markdown",
   "metadata": {},
   "source": [
    "3) Quel est un modèle naturel pour “un lancer de dé”?\n",
    "\n",
    "Loi de probabilite uniforme discret $\\mathbb{P}(X = i) = \\frac{1}{6}$"
   ]
  },
  {
   "cell_type": "markdown",
   "metadata": {},
   "source": [
    "4) Que vaut le biais de $\\hat{g}_b = \\frac{1}{n} \\sum\\limits_{i=1}^n (y_i - \\bar{y}_n)^2$ ($\\bar{y}_n$ est la moyenne empirique) des $y_i$ i.i.d, gaussiens, centrés et de variance $\\sigma^2$ ?\n",
    "\n",
    "On sait que $\\hat{g}_{nb} = \\frac{1}{n-1} \\sum\\limits_{i=1}^n (y_i - \\bar{y}_n)^2$ est sans biais donc\n",
    "\n",
    "$Biais(\\hat{g}_{nb}, g) = \\mathbb{E}(\\hat{g}_{nb}) - var(Y) = 0$\n",
    "\n",
    "\\begin{align}\n",
    "    Biais(\\hat{g}_{b}, g) &= \\mathbb{E}(\\hat{g}_{b}) - var(Y) \\\\\n",
    "                          &= \\mathbb{E}(\\frac{n-1}{n} \\hat{g}_{nb}) - var(Y) \\\\\n",
    "                          &= \\frac{n-1}{n} \\mathbb{E}(\\hat{g}_{nb}) - var(Y) \\\\\n",
    "                          &= \\frac{n-1}{n} var(Y) - var(Y) \\\\\n",
    "                          &= -\\frac{1}{n} var(Y)\n",
    "\\end{align}"
   ]
  },
  {
   "cell_type": "markdown",
   "metadata": {},
   "source": [
    "5) On suppose que l’on observe $y_1,... , y_n$ , des variables réelles i.i.d., gaussiennes, centrées et de variance $\\sigma^2$. Quel est le risque quadratique de l’estimateur $\\frac{1}{n} \\sum\\limits_{i=1}^n (y_i - \\bar{y}_n)^2$ de $\\sigma^2$ "
   ]
  },
  {
   "cell_type": "markdown",
   "metadata": {},
   "source": [
    "6) Quelle est la projection (orthogonale) du vecteur $y \\in \\mathbb{R}^n$ sur l’espace\n",
    "$Vect(1_n)$, avec $1_n = (1, . . . , 1)^T \\in \\mathbb{R}^n$ ?"
   ]
  },
  {
   "cell_type": "markdown",
   "metadata": {},
   "source": [
    "7) Quels sont les vecteurs $y \\in \\mathbb{R}^n$ tels que $var_n(y) = 0$ ($var_n$ est la variance empirique)?"
   ]
  },
  {
   "cell_type": "markdown",
   "metadata": {},
   "source": [
    "# Moindres carrés unidimensionnel: on observe $y = (y_1, ..., y_n)^T et x = (x_1, ..., x_n)^T$ "
   ]
  },
  {
   "cell_type": "markdown",
   "metadata": {},
   "source": [
    "1) La fonction $(\\theta_0, \\theta_1) \\rightarrow \\frac{1}{2} \\sum\\limits_{i=1}^n (y_i - \\theta_0 - \\theta_1x_i)^2$ est elle convexe ou concave?\n",
    "\n",
    "Calcul de la hessienne H de f\n",
    "\n",
    "$\\frac{\\partial f}{\\partial \\theta_0} = \\sum\\limits_{i=1}^n \\theta_0 - y_i + \\theta_1 x_i$\n",
    "\n",
    "$\\frac{\\partial f}{\\partial \\theta_1} = \\sum\\limits_{i=1}^n \\theta_1x_i^2 - x_iy_i + \\theta_0 x_i$\n",
    "\n",
    "$ H(f) = \\begin{pmatrix}\n",
    "n & \\sum\\limits_{i=1}^n x_i \\\\\n",
    "\\sum\\limits_{i=1}^n x_i & \\sum\\limits_{i=1}^n x_i^2\n",
    "\\end{pmatrix}$\n",
    "Pour une matrice 2x2 : \n",
    "$Det(H) = \\sum\\limits_{i=1}^n x_i^2 - \\left( \\sum\\limits_{i=1}^n x_i \\right)^2 > 0$ et $n > 0$\n",
    "\n",
    "Donc f est convexe"
   ]
  },
  {
   "cell_type": "markdown",
   "metadata": {},
   "source": [
    "2) Donner la formule $(\\hat{\\theta}_0, \\hat{\\theta}_1)$ des estimateurs des moindres carrés où $\\theta_0$\n",
    "correspond au coefficient des constantes et $\\hat{\\theta}_0$ correspond à l’influence de x sur y. On les exprimeras en fonction des $x_i$ , $y_i$ , $x_n$ , $y_n$"
   ]
  },
  {
   "cell_type": "markdown",
   "metadata": {},
   "source": [
    "# Moindre carrés: $y = (y_1, ..., y_n ) > et X \\in \\mathbb{R} n×p$"
   ]
  },
  {
   "cell_type": "markdown",
   "metadata": {},
   "source": [
    "1) Écrire un pseudo-code de descente de gradient pour résoudre le problème des moindres carrés."
   ]
  },
  {
   "cell_type": "markdown",
   "metadata": {},
   "source": [
    "2) Pour une matrice $X \\in \\mathbb{R} n×p$ , que vaut $Ker(X^T X)$?"
   ]
  },
  {
   "cell_type": "markdown",
   "metadata": {},
   "source": [
    "3) Si la matrice $X \\in \\mathbb{R} n×p$ est de plein rang, donner une formule exacte de l’estimateur des moindres carrés."
   ]
  },
  {
   "cell_type": "markdown",
   "metadata": {},
   "source": [
    "4) Si la matrice $X \\in \\mathbb{R} n×p$ est de plein rang, donner la matrice de covariance de l’estimateur des moindres carrés (dans l’hypothèse d’un bruit $\\epsilon = y - X\\theta^*$ centré et de matrice de covariance $\\sigma^2 Id_n$)."
   ]
  },
  {
   "cell_type": "markdown",
   "metadata": {},
   "source": [
    "5) Donner la formulation de la pseudo inverse si la SVD de X peut s’écrire $\\sum\\limits_{i=1}^r s_iv_iu_i^T$."
   ]
  },
  {
   "cell_type": "markdown",
   "metadata": {},
   "source": [
    "6) Donner une formule explicite du problème \n",
    "$ \\operatorname*{arg\\,min}_\\theta \\frac{1}{2} \\left( y - X\\theta \\right)^T \\Omega \\left( y - X\\theta \\right)$\n",
    "pour une matrice $\\Omega = diag(w_1, ..., w_n)$ définie positive."
   ]
  },
  {
   "cell_type": "markdown",
   "metadata": {},
   "source": [
    "# Ridge:\n",
    "On note $\\hat{\\theta} = \\operatorname*{arg\\,min}_\\theta \\frac{1}{2} \\| y - X\\theta \\|_2^2 + \\frac{\\lambda}{2} \\| \\theta \\|_2^2$ l’estimateur ridge."
   ]
  },
  {
   "cell_type": "markdown",
   "metadata": {},
   "source": [
    "1) Donner une formule explicite pour l’estimateur Ridge en fonction de y et $\\lambda$ quand $X = Id_n$ ."
   ]
  },
  {
   "cell_type": "markdown",
   "metadata": {},
   "source": [
    "2) Donner une formule explicite pour l’estimateur Ridge en fonction de X, y et $\\lambda$."
   ]
  },
  {
   "cell_type": "markdown",
   "metadata": {},
   "source": [
    "3) Donner la variance de l’estimateur Ridge sous l’hypothèse que le bruit $y − X\\theta^*$ est centré et de variance $\\sigma^2 Id_n$."
   ]
  },
  {
   "cell_type": "markdown",
   "metadata": {},
   "source": [
    "4) Donner une formule explicite pour l’estimateur Ridge généralisé:\n",
    "$\\hat{\\theta} = \\operatorname*{arg\\,min}_\\theta \\frac{1}{2} \\| y - X\\theta \\|_2^2 + \\frac{\\lambda}{2} \\| D\\theta \\|_2^2$, en fonction de X, y, $D \\in \\mathbb{R}^{pxp}$ et $\\lambda$"
   ]
  },
  {
   "cell_type": "code",
   "execution_count": null,
   "metadata": {
    "collapsed": true
   },
   "outputs": [],
   "source": []
  }
 ],
 "metadata": {
  "anaconda-cloud": {},
  "kernelspec": {
   "display_name": "Python [Root]",
   "language": "python",
   "name": "Python [Root]"
  },
  "language_info": {
   "codemirror_mode": {
    "name": "ipython",
    "version": 3
   },
   "file_extension": ".py",
   "mimetype": "text/x-python",
   "name": "python",
   "nbconvert_exporter": "python",
   "pygments_lexer": "ipython3",
   "version": "3.5.2"
  }
 },
 "nbformat": 4,
 "nbformat_minor": 0
}
